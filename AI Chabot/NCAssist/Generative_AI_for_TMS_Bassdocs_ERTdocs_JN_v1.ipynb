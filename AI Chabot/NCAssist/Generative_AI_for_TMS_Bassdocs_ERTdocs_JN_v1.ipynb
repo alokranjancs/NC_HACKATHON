{
 "cells": [
  {
   "cell_type": "code",
   "execution_count": 5,
   "id": "ffa807f6",
   "metadata": {},
   "outputs": [],
   "source": [
    "#Importing Necessary Liberaries\n",
    "\n",
    "import pandas as pd\n",
    "import numpy as np\n",
    "import openai\n",
    "import os\n",
    "\n",
    "from dotenv import load_dotenv, find_dotenv\n",
    "_ = load_dotenv(find_dotenv()) # read local .env file\n",
    "openai.api_key = os.environ['OPENAI_API_KEY']\n",
    "# print(openai.api_key) \n",
    "\n",
    "# #Reading  defects csv file\n",
    "# jira_tms_data = pd.read_csv(\"NetCracker TMS 2023-07-22T08_01_52+0100.csv\")"
   ]
  },
  {
   "cell_type": "code",
   "execution_count": 7,
   "id": "6ce99e10",
   "metadata": {},
   "outputs": [],
   "source": [
    "#import Langchaing and LLM liberaries\n",
    "from langchain.chains import RetrievalQA\n",
    "from langchain.chat_models import ChatOpenAI\n",
    "from langchain.document_loaders import CSVLoader\n",
    "from langchain.document_loaders import PyPDFLoader\n",
    "from langchain.vectorstores import DocArrayInMemorySearch\n"
   ]
  },
  {
   "cell_type": "markdown",
   "id": "1717d17e",
   "metadata": {},
   "source": [
    "# TMS Document Loading"
   ]
  },
  {
   "cell_type": "code",
   "execution_count": 12,
   "id": "1107a718",
   "metadata": {},
   "outputs": [],
   "source": [
    "# tms/GTS data \n",
    "file  = \"Cleaned_NCTMSfile.csv\"\n",
    "tms_loader = CSVLoader(file_path=file,encoding='utf-8')\n",
    "# jira_tms_data = pd.read_csv(\"Cleaned_NCTMSfile.csv\")"
   ]
  },
  {
   "cell_type": "code",
   "execution_count": 11,
   "id": "3dac89bd",
   "metadata": {},
   "outputs": [
    {
     "name": "stdout",
     "output_type": "stream",
     "text": [
      " Volume in drive D is Extra\n",
      " Volume Serial Number is 7A36-5D60\n",
      "\n",
      " Directory of d:\\hackathon\\NC_HACKATHON\\AI Chabot\\solution\\NCAssist\n",
      "\n",
      "08/26/2023  08:26 PM    <DIR>          .\n",
      "08/26/2023  07:56 PM    <DIR>          ..\n",
      "08/26/2023  08:25 PM         5,819,663 Cleaned_NCTMSfile.csv\n",
      "08/26/2023  08:11 PM            84,640 Generative_AI_for_TMS_Bassdocs_ERTdocs_JN_v1.ipynb\n",
      "08/26/2023  07:46 PM            25,357 Generative_AI_for_TMS_JN_v1.ipynb\n",
      "               3 File(s)      5,929,660 bytes\n",
      "               2 Dir(s)  19,526,336,512 bytes free\n"
     ]
    }
   ],
   "source": [
    "!dir"
   ]
  },
  {
   "cell_type": "code",
   "execution_count": 13,
   "id": "110e6221",
   "metadata": {},
   "outputs": [],
   "source": [
    "tms_docs= tms_loader.load()"
   ]
  },
  {
   "cell_type": "code",
   "execution_count": 14,
   "id": "04760a5a",
   "metadata": {},
   "outputs": [
    {
     "data": {
      "text/plain": [
       "30777"
      ]
     },
     "execution_count": 14,
     "metadata": {},
     "output_type": "execute_result"
    }
   ],
   "source": [
    "len(tms_docs)"
   ]
  },
  {
   "cell_type": "code",
   "execution_count": 15,
   "id": "df03c9b1",
   "metadata": {},
   "outputs": [
    {
     "data": {
      "text/plain": [
       "[Document(page_content='Ticket key: TFNUK-921897\\nCustom field (External Issue ID): \\nPriority: Normal\\nStatus: Resolved\\nAssignee: hech0322\\nComponent/s: MS_CIM\\nFix Version/s: \\nCreated: 22/Jul/23 7:39 AM\\nUpdated: 22/Jul/23 7:42 AM\\nResolution: Fixed\\nCustom field (Root Cause Description): ', metadata={'source': 'Cleaned_NCTMSfile.csv', 'row': 0}),\n",
       " Document(page_content='Ticket key: TFNUK-921877\\nCustom field (External Issue ID): INC000005928417\\nPriority: Normal\\nStatus: Open\\nAssignee: veko0815\\nComponent/s: MS_Order Entry\\nFix Version/s: \\nCreated: 22/Jul/23 12:34 AM\\nUpdated: 22/Jul/23 6:02 AM\\nResolution: \\nCustom field (Root Cause Description): ', metadata={'source': 'Cleaned_NCTMSfile.csv', 'row': 1}),\n",
       " Document(page_content='Ticket key: TFNUK-921876\\nCustom field (External Issue ID): INC000005915722\\nPriority: Critical\\nStatus: Open\\nAssignee: veko0815\\nComponent/s: MS_Order Entry\\nFix Version/s: \\nCreated: 22/Jul/23 12:17 AM\\nUpdated: 22/Jul/23 6:02 AM\\nResolution: \\nCustom field (Root Cause Description): ', metadata={'source': 'Cleaned_NCTMSfile.csv', 'row': 2}),\n",
       " Document(page_content='Ticket key: TFNUK-921874\\nCustom field (External Issue ID): INC000005922991\\nPriority: Normal\\nStatus: Open\\nAssignee: desi1016\\nComponent/s: MS_CBM\\nFix Version/s: \\nCreated: 21/Jul/23 10:51 PM\\nUpdated: 22/Jul/23 6:02 AM\\nResolution: \\nCustom field (Root Cause Description): ', metadata={'source': 'Cleaned_NCTMSfile.csv', 'row': 3}),\n",
       " Document(page_content='Ticket key: TFNUK-921873\\nCustom field (External Issue ID): INC000005925391\\nPriority: Normal\\nStatus: Open\\nAssignee: vlfu1219\\nComponent/s: MS_Notification Engine\\nFix Version/s: \\nCreated: 21/Jul/23 10:11 PM\\nUpdated: 22/Jul/23 6:02 AM\\nResolution: \\nCustom field (Root Cause Description): ', metadata={'source': 'Cleaned_NCTMSfile.csv', 'row': 4}),\n",
       " Document(page_content='Ticket key: TFNUK-921872\\nCustom field (External Issue ID): INC000005921089\\nPriority: Major\\nStatus: Open\\nAssignee: sara0116\\nComponent/s: MS_Fulfillment\\nFix Version/s: \\nCreated: 21/Jul/23 9:09 PM\\nUpdated: 22/Jul/23 6:02 AM\\nResolution: \\nCustom field (Root Cause Description): ', metadata={'source': 'Cleaned_NCTMSfile.csv', 'row': 5}),\n",
       " Document(page_content='Ticket key: TFNUK-921871\\nCustom field (External Issue ID): \\nPriority: Normal\\nStatus: Resolved\\nAssignee: jogu0721\\nComponent/s: MS_ePOS\\nFix Version/s: \\nCreated: 21/Jul/23 8:49 PM\\nUpdated: 21/Jul/23 8:50 PM\\nResolution: Fixed\\nCustom field (Root Cause Description): ', metadata={'source': 'Cleaned_NCTMSfile.csv', 'row': 6}),\n",
       " Document(page_content='Ticket key: TFNUK-921870\\nCustom field (External Issue ID): INC000005928047\\nPriority: Critical\\nStatus: Open\\nAssignee: veko0815\\nComponent/s: MS_Order Entry\\nFix Version/s: \\nCreated: 21/Jul/23 8:45 PM\\nUpdated: 22/Jul/23 6:02 AM\\nResolution: \\nCustom field (Root Cause Description): ', metadata={'source': 'Cleaned_NCTMSfile.csv', 'row': 7}),\n",
       " Document(page_content='Ticket key: TFNUK-921869\\nCustom field (External Issue ID): INC000005922950\\nPriority: Major\\nStatus: Open\\nAssignee: gati0917\\nComponent/s: MS_ePOS\\nFix Version/s: \\nCreated: 21/Jul/23 8:18 PM\\nUpdated: 22/Jul/23 6:02 AM\\nResolution: \\nCustom field (Root Cause Description): ', metadata={'source': 'Cleaned_NCTMSfile.csv', 'row': 8}),\n",
       " Document(page_content='Ticket key: TFNUK-921866\\nCustom field (External Issue ID): \\nPriority: Normal\\nStatus: Resolved\\nAssignee: jogu0721\\nComponent/s: MS_TBAPI\\nFix Version/s: \\nCreated: 21/Jul/23 7:36 PM\\nUpdated: 21/Jul/23 7:37 PM\\nResolution: Fixed\\nCustom field (Root Cause Description): ', metadata={'source': 'Cleaned_NCTMSfile.csv', 'row': 9})]"
      ]
     },
     "execution_count": 15,
     "metadata": {},
     "output_type": "execute_result"
    }
   ],
   "source": [
    "tms_docs[0:10]"
   ]
  },
  {
   "cell_type": "markdown",
   "id": "829541cb",
   "metadata": {},
   "source": [
    "# TMS Document splitting"
   ]
  },
  {
   "cell_type": "code",
   "execution_count": 16,
   "id": "321b8cd5",
   "metadata": {},
   "outputs": [],
   "source": [
    "# Split\n",
    "from langchain.text_splitter import RecursiveCharacterTextSplitter\n",
    "text_splitter = RecursiveCharacterTextSplitter(\n",
    "    chunk_size = 400,\n",
    "    chunk_overlap = 20,\n",
    "    separators=[\"\\n\\n\", \"\\n\", \"(?<=\\.)\", \" \", \"\"]\n",
    ")"
   ]
  },
  {
   "cell_type": "code",
   "execution_count": 17,
   "id": "641dfbbb",
   "metadata": {},
   "outputs": [],
   "source": [
    "tms_splits = text_splitter.split_documents(tms_docs)"
   ]
  },
  {
   "cell_type": "code",
   "execution_count": 18,
   "id": "d6fa2870",
   "metadata": {},
   "outputs": [
    {
     "data": {
      "text/plain": [
       "38742"
      ]
     },
     "execution_count": 18,
     "metadata": {},
     "output_type": "execute_result"
    }
   ],
   "source": [
    "len(tms_splits)"
   ]
  },
  {
   "cell_type": "code",
   "execution_count": 19,
   "id": "c1624add",
   "metadata": {},
   "outputs": [
    {
     "data": {
      "text/plain": [
       "[Document(page_content='Ticket key: TFNUK-921897\\nCustom field (External Issue ID): \\nPriority: Normal\\nStatus: Resolved\\nAssignee: hech0322\\nComponent/s: MS_CIM\\nFix Version/s: \\nCreated: 22/Jul/23 7:39 AM\\nUpdated: 22/Jul/23 7:42 AM\\nResolution: Fixed\\nCustom field (Root Cause Description):', metadata={'source': 'Cleaned_NCTMSfile.csv', 'row': 0}),\n",
       " Document(page_content='Ticket key: TFNUK-921877\\nCustom field (External Issue ID): INC000005928417\\nPriority: Normal\\nStatus: Open\\nAssignee: veko0815\\nComponent/s: MS_Order Entry\\nFix Version/s: \\nCreated: 22/Jul/23 12:34 AM\\nUpdated: 22/Jul/23 6:02 AM\\nResolution: \\nCustom field (Root Cause Description):', metadata={'source': 'Cleaned_NCTMSfile.csv', 'row': 1}),\n",
       " Document(page_content='Ticket key: TFNUK-921876\\nCustom field (External Issue ID): INC000005915722\\nPriority: Critical\\nStatus: Open\\nAssignee: veko0815\\nComponent/s: MS_Order Entry\\nFix Version/s: \\nCreated: 22/Jul/23 12:17 AM\\nUpdated: 22/Jul/23 6:02 AM\\nResolution: \\nCustom field (Root Cause Description):', metadata={'source': 'Cleaned_NCTMSfile.csv', 'row': 2}),\n",
       " Document(page_content='Ticket key: TFNUK-921874\\nCustom field (External Issue ID): INC000005922991\\nPriority: Normal\\nStatus: Open\\nAssignee: desi1016\\nComponent/s: MS_CBM\\nFix Version/s: \\nCreated: 21/Jul/23 10:51 PM\\nUpdated: 22/Jul/23 6:02 AM\\nResolution: \\nCustom field (Root Cause Description):', metadata={'source': 'Cleaned_NCTMSfile.csv', 'row': 3}),\n",
       " Document(page_content='Ticket key: TFNUK-921873\\nCustom field (External Issue ID): INC000005925391\\nPriority: Normal\\nStatus: Open\\nAssignee: vlfu1219\\nComponent/s: MS_Notification Engine\\nFix Version/s: \\nCreated: 21/Jul/23 10:11 PM\\nUpdated: 22/Jul/23 6:02 AM\\nResolution: \\nCustom field (Root Cause Description):', metadata={'source': 'Cleaned_NCTMSfile.csv', 'row': 4}),\n",
       " Document(page_content='Ticket key: TFNUK-921872\\nCustom field (External Issue ID): INC000005921089\\nPriority: Major\\nStatus: Open\\nAssignee: sara0116\\nComponent/s: MS_Fulfillment\\nFix Version/s: \\nCreated: 21/Jul/23 9:09 PM\\nUpdated: 22/Jul/23 6:02 AM\\nResolution: \\nCustom field (Root Cause Description):', metadata={'source': 'Cleaned_NCTMSfile.csv', 'row': 5}),\n",
       " Document(page_content='Ticket key: TFNUK-921871\\nCustom field (External Issue ID): \\nPriority: Normal\\nStatus: Resolved\\nAssignee: jogu0721\\nComponent/s: MS_ePOS\\nFix Version/s: \\nCreated: 21/Jul/23 8:49 PM\\nUpdated: 21/Jul/23 8:50 PM\\nResolution: Fixed\\nCustom field (Root Cause Description):', metadata={'source': 'Cleaned_NCTMSfile.csv', 'row': 6}),\n",
       " Document(page_content='Ticket key: TFNUK-921870\\nCustom field (External Issue ID): INC000005928047\\nPriority: Critical\\nStatus: Open\\nAssignee: veko0815\\nComponent/s: MS_Order Entry\\nFix Version/s: \\nCreated: 21/Jul/23 8:45 PM\\nUpdated: 22/Jul/23 6:02 AM\\nResolution: \\nCustom field (Root Cause Description):', metadata={'source': 'Cleaned_NCTMSfile.csv', 'row': 7}),\n",
       " Document(page_content='Ticket key: TFNUK-921869\\nCustom field (External Issue ID): INC000005922950\\nPriority: Major\\nStatus: Open\\nAssignee: gati0917\\nComponent/s: MS_ePOS\\nFix Version/s: \\nCreated: 21/Jul/23 8:18 PM\\nUpdated: 22/Jul/23 6:02 AM\\nResolution: \\nCustom field (Root Cause Description):', metadata={'source': 'Cleaned_NCTMSfile.csv', 'row': 8}),\n",
       " Document(page_content='Ticket key: TFNUK-921866\\nCustom field (External Issue ID): \\nPriority: Normal\\nStatus: Resolved\\nAssignee: jogu0721\\nComponent/s: MS_TBAPI\\nFix Version/s: \\nCreated: 21/Jul/23 7:36 PM\\nUpdated: 21/Jul/23 7:37 PM\\nResolution: Fixed\\nCustom field (Root Cause Description):', metadata={'source': 'Cleaned_NCTMSfile.csv', 'row': 9})]"
      ]
     },
     "execution_count": 19,
     "metadata": {},
     "output_type": "execute_result"
    }
   ],
   "source": [
    "tms_splits[0:10]"
   ]
  },
  {
   "cell_type": "markdown",
   "id": "cb5205c2",
   "metadata": {},
   "source": [
    "# Loading Design Document PDF"
   ]
  },
  {
   "cell_type": "code",
   "execution_count": 25,
   "id": "3bbc9154",
   "metadata": {},
   "outputs": [],
   "source": [
    "# bass page docs\n",
    "bassdoc_loader = PyPDFLoader(\"O2UK-DI-ePOS-PMT-006-ScanPLUCapability-260823-0424-738.pdf\") \n",
    "desing_pages = bassdoc_loader.load()"
   ]
  },
  {
   "cell_type": "code",
   "execution_count": 26,
   "id": "751d0a3d",
   "metadata": {},
   "outputs": [
    {
     "data": {
      "text/plain": [
       "26"
      ]
     },
     "execution_count": 26,
     "metadata": {},
     "output_type": "execute_result"
    }
   ],
   "source": [
    "len(desing_pages)"
   ]
  },
  {
   "cell_type": "code",
   "execution_count": 27,
   "id": "6f2003dc",
   "metadata": {},
   "outputs": [
    {
     "data": {
      "text/plain": [
       "[Document(page_content='Assumptions:\\nThere will be one on one mapping between PLU and SKU for R3\\nWhen the User is on the \"Help\" tab and he clicks \"TAB\" button then the cursor \\nshould go to Scan PLU button (the Enter PLU field won\\'t be shown, to open it the \\n). click on special button is required\\nIn the Scanned Product pop-up the space between Configure purchase option \\nbutton and the text above it should be 32px\\nPre-conditions :\\nAgent can either launch ePOS for an anonymous customer through evolution  or \\nlaunch ePOS from CSRD for authorized customer.\\nAgent can initiate scan on Resign Options Page, Product Listing Page, Product \\nDetails Page, Configuration Page and Basket Page\\nExecution :\\nScan/PLU Button\\nEnter PLU field\\nError Message when no product offering is found for the scanned PLU:', metadata={'source': 'O2UK-DI-ePOS-PMT-006-ScanPLUCapability-260823-0424-738.pdf', 'page': 4}),\n",
       " Document(page_content='Element \\nnameFootnote Description Technical \\ndetailsSource UI/UX \\nDetailsReference \\nto UX/UI \\nElement\\nButton 1\\nAgent can \\nclicks on \\nScan/PLU \\nbutton on \\nthe header.\\nScan/PLU \\nbutton will \\nbe visible on \\nproduct \\nlisting, \\nproduct \\ndetails, \\nconfiguration\\nor basket \\npages.\\nScan/PLU \\noption will \\nnot be \\ndisplayed on \\nthe \\ncheckout \\npages.\\nScan/PLU \\nbutton is \\nworking \\nduring \\nResign \\nprocess.- -\\nForm \\nFields, \\nButtons, \\nModals in \\nNew UI/UX \\ndesign', metadata={'source': 'O2UK-DI-ePOS-PMT-006-ScanPLUCapability-260823-0424-738.pdf', 'page': 5}),\n",
       " Document(page_content='Enter \\nPLU field2\\nWhen an \\nAgent clicks \\non Scan\\n/PLU button, \\na section \\nwill be \\nextended \\nwith a field \\nto enter \\nScan PLU.\\nAgent clicks \\non the \\n\"Enter PLU\" \\nfield.\\nAgent scans \\nthe PLU \\ncode from \\nthe device \\nor enters \\nPLU code \\nmanually.\\nExtended \\nsection will \\nbe hidden if \\nthe cursor is \\nmoved out \\nof the \\nsection \\nsimilar to \\nwhen we \\nclick on \\n\\'Shop\\' \\nbutton- -\\nSearch \\nButton \\n(Success \\n& error \\nbehaviour)3\\nAgent clicks \\non search \\nicon or \\nclicks enter \\non the \\nkeyboard.\\nSystem \\nsends PLU \\nvalue as an \\ninput to the \\nTBAPI on \\nthe TBAPI-\\nCAT-014 \\nGet Product \\n Offerings call\\nIn response TBAPI to \\nadd new \\nPLU \\nparameter\\n(for more \\ndetails \\nplease refer \\nthe TBAPI \\nrequest \\n) method\\n{\\n\"sku\": \\n\"1SADV4BN\\n\",TBAPI Error \\nmessage \\nshown:\\nWe can\\'t \\nfind this \\nproduct \\nin the \\ncataloguehttps://o2-\\nuk.\\ninvisionapp\\n.com/share\\n/KNJF2UAC\\n73U#\\n/screens\\n/299129877\\nIcons \\n(Global \\nupdating \\ncross \\nportals)', metadata={'source': 'O2UK-DI-ePOS-PMT-006-ScanPLUCapability-260823-0424-738.pdf', 'page': 6}),\n",
       " Document(page_content='In response \\nTBAPI will \\nsend the pro\\nduct offering\\ndetails of \\nthe \\ncorrespondin\\ng PLU code\\nWhen no \\nproduct \\noffering is \\nreturned \\nfrom TBAPI \\n(even in \\ncase of T&B \\ndevices), sys\\ntem displays \\nan error \\nmessage.\\nWhen more \\nthan one \\nproduct \\noffering is \\nreturned \\nfrom TBAPI,  \\nePOS \\ndisplays the \\nfirst product \\noffering \\nfrom the \\nresult.\\nIn case of \\nResign: \\nsearch \\nbutton \\ndoesn\\'t \\ninterrupt \\nthe resign \\nprocess.\"plu\": \\n\"123456789\\n0123\"\\n\"stock\": {\\n\"availability\\nStatus\": \\n\"available \\nfor pre\\n/back order\"\\n}Please \\ncheck \\nthe PLU. \\nIf it\\'s \\ncorrect, \\nplease \\ncontact \\nthe \\npricing \\nteam at s\\ntoresprici\\nng@telef\\nonica.\\ncom', metadata={'source': 'O2UK-DI-ePOS-PMT-006-ScanPLUCapability-260823-0424-738.pdf', 'page': 7}),\n",
       " Document(page_content='Error \\nmessage \\nfor \\nfrontend \\nvalidation4 System checks \\non screen \\nvalidation of \\nthe PLU format \\nonce the PLU \\nvalue is \\nentered:\\nIf PLU is \\nmore than \\n13 digit\\nIf the PLU is \\nnot number \\ntype\\nthen \\nSystem \\ndisplays an \\nerror \\nmessage \" Th\\ne PLU is\\'t in \\nthe right \\n\" format\\nSystem should \\nprefix 0 for the \\nscanned value \\nif the scanned \\nvalue is less \\nthan 13 digit\\nExample: \\nscanned \\nvalue is \\n123456789 \\nthen system \\nshould \\nprefix zeros \\n0000123456\\n789\\nScanned Product pop-up for device', metadata={'source': 'O2UK-DI-ePOS-PMT-006-ScanPLUCapability-260823-0424-738.pdf', 'page': 8}),\n",
       " Document(page_content='Element \\nnameFootnote Description Technical \\ndetailsSource UI/UX Details\\nTitle 1 Modal title with \"Scanned \\nProduct\" text-\\nBrand 2 Brand name TBAPI\\nName 3 Model name TBAPI\\nScanned \\nProduct \\nPop-up \\nfor Device4 Following options are \\ndisplayed on the Scanned \\nProduct Pop-up for DeviceCJM/\\nPOC', metadata={'source': 'O2UK-DI-ePOS-PMT-006-ScanPLUCapability-260823-0424-738.pdf', 'page': 9}),\n",
       " Document(page_content='Device Image\\nBrand\\nModel\\nColor (non-editable)\\nCapacity (non-\\neditable)\\nPromo offers from \\nMarketing Catalog\\nView product details:', metadata={'source': 'O2UK-DI-ePOS-PMT-006-ScanPLUCapability-260823-0424-738.pdf', 'page': 10}),\n",
       " Document(page_content='On Click of View Product \\nDetails link ,Agent \\nnavigates to Product \\nDetails page\\nColor and Capacity will \\nbe editable on Details \\npage\\nAgent will be able to \\nconfigure the calculator \\nvalues for each sale type\\nCustom Plan with \\nCCA(PackagesPay \\nfor the device \\nMonthly)\\nUpfront, Montly \\nand \\ndatallowance \\nare desplayed\\nCustom Plan with \\nFull Upfront\\n(PackagesPay for \\nthe device upfront)\\nUpfront, \\nMonthly and \\ndatallowance \\nare desplayed\\nSim Free \\nFinancing (Pay for \\nthe device \\nmonthly)\\nUpfront, Montly \\nand \\ndatallowance \\nare desplayed\\nSim Free \\nHardware (Pay for \\nthe device upfront)\\nUpfront , \\nMonthly and \\ndatallowance \\nare desplayed\\nUp on changing Color \\nand capacity,Agent can \\nproceed with normal \\nflow where the required \\ninformation can be \\nscanned on Delivery \\npage\\nConfigure Purchase Options:', metadata={'source': 'O2UK-DI-ePOS-PMT-006-ScanPLUCapability-260823-0424-738.pdf', 'page': 11}),\n",
       " Document(page_content='Agent navigates to the \\nconfiguration page \\n(Refer: Configuration \\n)Page\\nAgent navigates to the \\nconfiguration page and \\ncan change the color \\nand capacity of the \\nselected product and \\nproceed with the normal \\nflow\\nScanned \\nProduct \\nPop-up \\nfor \\nAccessory5 Following options are \\ndisplayed on the Scanned \\nProduct Pop-up for Accessory\\nAccessory Image\\nBrand\\nModel\\nColor (non-editable)\\nPromo offers from \\nMarketing Catalog\\nView product details:\\nAgent navigates to \\nProduct Details Page to \\nview the product details.\\nBuy upfront:\\nAgent can choose one \\ntime payment with full \\nupfront amount\\nFinancial options:\\nAgent can choose a \\nmonthly payment with \\nupfront amount\\nAdd to Basket:\\nProduct will be added to \\nthe basket and agent \\nproceeds with the \\ncheckout processCJM/\\nPOC\\nScanned \\nProduct 6\\nFollowing options are CJM/', metadata={'source': 'O2UK-DI-ePOS-PMT-006-ScanPLUCapability-260823-0424-738.pdf', 'page': 12}),\n",
       " Document(page_content='Product \\nPop-up \\nfor TabletFollowing options are \\ndisplayed on the Scanned \\nProduct Pop-up for  Tablet\\nTablet Image\\nBrand\\nModel\\nColor (non-editable)\\nCapacity (non-\\neditable)\\nPromo offers from \\nMarketing Catalog\\nView product details:POC', metadata={'source': 'O2UK-DI-ePOS-PMT-006-ScanPLUCapability-260823-0424-738.pdf', 'page': 13}),\n",
       " Document(page_content='On Click of View Product \\nDetails link ,Agent \\nnavigates to Product \\nDetails page\\nColor and Capacity will \\nbe editable on Details \\npage\\nAgent will be able to \\nconfigure the calculator \\nvalues for each sale type\\nCustom Plan with \\nCCA(PackagesPay \\nfor the device \\nMonthly)\\nUpfront, Montly \\nand \\ndatallowance \\nare desplayed\\nCustom Plan with \\nFull Upfront\\n(PackagesPay for \\nthe device upfront)\\nUpfront, \\nMonthly and \\ndatallowance \\nare desplayed\\nSim Free \\nFinancing (Pay for \\nthe device \\nmonthly)\\nUpfront, Montly \\nand \\ndatallowance \\nare desplayed\\nSim Free \\nHardware (Pay for \\nthe device upfront)\\nUpfront , \\nMonthly and \\ndatallowance \\nare desplayed\\nUp on changing Color \\nand capacity,Agent can \\nproceed with normal \\nflow where the required \\ninformation can be \\nscanned on Delivery \\npage\\nConfigure Purchase Options:', metadata={'source': 'O2UK-DI-ePOS-PMT-006-ScanPLUCapability-260823-0424-738.pdf', 'page': 14}),\n",
       " Document(page_content='1.  \\n2.  \\n1.  \\n2.  Agent navigates to the \\nconfiguration page \\n(Refer: Configuration \\n)Page\\nAgent navigates to the \\nconfiguration page and \\ncan change the color \\nand capacity of the \\nselected product and \\nproceed with the normal \\nflow\\nTabs 9 The tabs are switching \\npurchase options - with \\ncustom plan or just the \\ndeviceThe name of the Packages tab for the \\nPhones is \" Phone and airtime\"\\nand for the Tablets is “Tablet and \\nairtime“\\nPurchase \\nmethod \\ntabs10 The tabs are switching the \\nmethods how the device \\nwill be purchased.The copies for the Pay for your device \\nmonthly tab (1)  and Pay for your \\ndevice upfront (2) tabs for the Phones , \\nTablets , Mobile Broadbands  and Smartw\\nare atches  \\n“Spread the cost“\\n“Pay in full“\\nThe copies for the similar tabs for the  A\\n(represented as the  co ccessories  TABS\\nmponent) are\\n“Pay in full“\\n“Spread the cost“\\nAdditional\\ncharacteri\\nstics13\\nDevice \\nprice \\ndescription11  fetch from To be : TBAPI-\\nCAT-014 Get Product \\n response \"Min Offerings\\nUpfront\" value and \\npreselected upfront value \\nin dependency to customer \\njourney type and \\ncorresponding Sale typeTBAPI', metadata={'source': 'O2UK-DI-ePOS-PMT-006-ScanPLUCapability-260823-0424-738.pdf', 'page': 15}),\n",
       " Document(page_content='Source \\nTBAPI \\nattribute \\nin case \\nof \"New\"Source \\nTBAPI \\nattribute \\nin case \\nof \\n\"Existing\"\\nM\\ni\\nn\\nU\\np\\nfr\\no\\nn\\nt offering.\\nprices.\\ndownPay\\n mentMin \\nfor \\ncorrespon\\nding Sale \\nType \\n(Custom \\nPlan with \\nCCA or \\nSim Free \\nfinancing)offering.\\nprices.\\ndownPay\\nmentMinE\\nxistingNe\\n for w \\ncorrespon\\nding Sale \\nType (Cus\\ntom Plan \\nwith CCA \\nor Sim \\nFree \\nfinancing)\\nM\\na\\nx\\nU\\np\\nfr\\no\\nn\\nt offering.prices.\\ndownPaymentMax', metadata={'source': 'O2UK-DI-ePOS-PMT-006-ScanPLUCapability-260823-0424-738.pdf', 'page': 16}),\n",
       " Document(page_content='P\\nr\\ne\\ns\\nel\\ne\\nc\\nt\\ne\\nd\\nu\\np\\nfr\\no\\nn\\nt \\nv\\nal\\nueoffering.\\ndefaultAtt\\nributes. cu\\nstomPlan\\nWithCCA .\\ndefaultUp\\n - front\\nfor Sale \\nType Cust\\nom Plan \\nwith CCA\\noffering.\\ndefaultAtt\\nributes.\\nSimFreeFi\\nnancing.\\ndefaultUp\\n - front\\nfor Sale \\ntype Sim \\nFree \\nfinancingoffering.\\ndefaultAtt\\nributes.\\ncustomPla\\nnWithCCA\\n.\\ndefaultUpf\\nrontExisti\\nngNew - \\nfor Sale \\nType Cust\\nom Plan \\nwith CCA\\noffering.\\ndefaultAtt\\nributes.\\nSimFreeFi\\nnancing.\\ndefaultUpf\\nrontExisti\\n - ngNew \\nfor Sale \\nType Sim \\nFree \\nfinancing\\nResign Scenario :\\nFetch from TBAPI-CAT-\\n014 Get Product \\n response: Offerings\\nMin Upfront \\n-  offering.prices.\\ndownPaymentMinExist\\ning\\nPreselected Upfront \\nvalue - offering.\\ndefaultAttributes.\\ncustomPlanWithCCA.\\ndefaultUpfrontResign\\nConfigure\\npurchase \\noption \\nbutton15 Acquisition flow : When \\nagent selects the offering \\nshown in the modal \\nwindow, then portal calls \\nQualification TBAPI to \\nqualify for this offering.\\nBelow is Portal/ \\nTBAPI\\nLoc file', metadata={'source': 'O2UK-DI-ePOS-PMT-006-ScanPLUCapability-260823-0424-738.pdf', 'page': 17}),\n",
       " Document(page_content='In case of success \\nresponse, agent \\nnavigates to the Order \\nConfiguration page DI-\\nePOS-PCO-002 \\nConfigure Device with \\n  (i Custom Plan/Sim Free\\nf the product is phone, \\ntablet, mobile \\nbroadband, companion \\ndevice, smartwatch);\\nIn case of success \\nresponse, agent \\nnavigates to the Basket \\npage DI-ePOS-BKT-001 \\n (if Basket Management\\nthe product is \\naccessory);\\nResign flow : When agent \\nselects the offering shown \\nin the modal window, then \\nportal calls TBAPI-OM-083 \\nQualify for Upgrade Sales \\n to Order With Eligibility\\nqualify for this offeringBelow is \\nthe \\nexample \\nto handle \\ncode \\nTBAPI-\\n1012 in \\nresponse \\nof TBAPI-\\nOM-083 \\nQualify for \\nUpgrade \\nSales \\nOrder \\nWith \\n Eligibility\\nfor Resign \\nscenario:\\nResponse \\nBody for \\nReference :\\n{\"errorCod\\ne\":\"422\",\"\\nuserMessa\\nge\":\\n{\"code\":\"\\nTBAPI-\\n1012\",\"\\nmessage\":\\n\"Cannot \\nupgrade \\nor resign \\nto \\n91629477\\n35013854\\n616 \\nproduct \\noffering \\nfor the bpi \\n91644285\\n36913839\\n564\" ,\"\\nbusinessCo\\nde\":\"\\nTBAPI-\\n1012\"}}In case the selected product offering \\nis not eligible for resign, then portal \\nreceives businessCode = TBAPI-1012\\nIf this code is received from \\nbackend, then show below error \\nmessage to the user on same \\nmodal window:\\nHeader: This device can’t be \\nadded\\nBody:\\nSorry – the device can’t be \\nadded to this order. Please \\ntry a different product, or \\nstart a new order for this \\ndevice.\\nUpgrade devices need to be \\nof the same type (e.g. Pay \\nMonthly, companion device, \\nsim free, etc.) as the one \\nyou’re upgrading from.\\nCTA: Go Back\\nOn click of \\'Go Back, \\nsystem will re-direct the \\nuser back to the same page \\nfrom where scanning was \\nstarted', metadata={'source': 'O2UK-DI-ePOS-PMT-006-ScanPLUCapability-260823-0424-738.pdf', 'page': 18}),\n",
       " Document(page_content=\"In case the selected \\nproduct offering is not \\neligible for resign, then \\nportal receives \\nbusinessCode = TBAPI-\\n1012\\nIf this code is \\nreceived from \\nbackend, then show \\nerror message as per \\n to the M-EPOS-10122\\nuser on same modal \\nwindow:\\nIn case of success \\nResponse:\\non click on the button \\nagent navigates to \\nthe Resign Order \\nConfiguration page DI\\n-ePOS-PCO-003-\\nResign Device \\n (if Configuration page\\nthe product is phone, \\ntablet, mobile \\nbroadband, \\ncompanion device, \\nsmartwatch);\\non click on the button \\nagent navigates to \\nthe Basket page DI-\\nePOS-BKT-005 \\n Resign Basket Page\\n(if the product is \\naccessory);\\nResign process isn't \\ninterrupted if agent \\nuse Scan PLU option.\\nMSFF  /A2P - Scan PLU - Accessory Details Page\", metadata={'source': 'O2UK-DI-ePOS-PMT-006-ScanPLUCapability-260823-0424-738.pdf', 'page': 19}),\n",
       " Document(page_content='', metadata={'source': 'O2UK-DI-ePOS-PMT-006-ScanPLUCapability-260823-0424-738.pdf', 'page': 20}),\n",
       " Document(page_content='', metadata={'source': 'O2UK-DI-ePOS-PMT-006-ScanPLUCapability-260823-0424-738.pdf', 'page': 21}),\n",
       " Document(page_content='Element \\nNameFootnote Description Technical \\nDetailsSource UI/UX \\nDetailsUI/UX \\nReference', metadata={'source': 'O2UK-DI-ePOS-PMT-006-ScanPLUCapability-260823-0424-738.pdf', 'page': 22}),\n",
       " Document(page_content='Button 1 Clicking \\nthe CTA, \\nsystem will \\ncheck if \\nthere are \\neligible SFF \\nplans in \\nthe basket \\nand display \\nthe modal \\naccordingly.After \\nscanning, on \\nAccessory \\n/Device \\nDetails page, \\nthe \"Add to \\nexisting \\npackage\" \\nCTA  is \\ndisplayed if \\nFor \\nAccessory:\\n\"Add to Sim \\nFree Finance\" \\nor \"Add to \\nPlan\" or both \\nsale types\\nFor Device:\\n\"Add to Sim \\nFree Finance\" \\nSale Type\\nis exists in \\navailable sale \\ntypes for that \\ndevice\\n/accessory. \\nThe available \\nsale types for \\nthe current \\naccessory\\n/Device is \\nretrieved by T\\nBAPI-CAT-\\n007 Get \\nProduct \\nOfferingButton: \\n\\'Add to \\nexisting \\npackage\\'Form \\nFields, \\nButtons, \\nModals in \\nNew UI\\n/UX \\ndesign', metadata={'source': 'O2UK-DI-ePOS-PMT-006-ScanPLUCapability-260823-0424-738.pdf', 'page': 23}),\n",
       " Document(page_content='Message \\nfor \\nspreadin\\ng the \\ncost 2 This message \\nis displayed \\nalong with \\n\"Add to \\nexisting \\npackage\" \\nCTA \\nexplaining \\nspreading of \\ncost.\\nNote : This \\nmessage is \\nconfigurable.Text: \\' You \\nmay be \\nable \\nspread the \\ncost for \\nthis item \\nby adding \\nit to an \\nexisting \\npackage, if \\nyou’ve \\nalready \\ncreated \\none. You \\ncan change \\nthe upfront \\nand \\nmonthly \\npayments \\non the \\nbasket \\npage \\nbefore \\nchecking \\n\\'out.\\nNavigation Capabilities:\\nShop SimsSimo Listing page\\nShop PhonesPhone Listing page\\nMock Ups:\\nhttps://o2-uk.invisionapp.com/share/P8JF1J6ZCNG#/screens/299129165\\nhttps://o2-uk.invisionapp.com/share/P8JF1J6ZCNG#/screens/299128429\\nhttps://o2-uk.invisionapp.com/share/P8JF1J6ZCNG#/screens/299128431\\nhttps://o2-uk.invisionapp.com/share/P8JF1J6ZCNG#/screens/299129165\\nhttps://o2-uk.invisionapp.com/share/P8JF1J6ZCNG#/screens/299125906\\nhttps://o2-uk.invisionapp.com/share/P8JF1J6ZCNG#/screens/299125907\\nhttps://o2-uk.invisionapp.com/share/P8JF1J6ZCNG#/screens/299125909\\nhttps://o2-uk.invisionapp.com/share/P8JF1J6ZCNG#/screens/299125762', metadata={'source': 'O2UK-DI-ePOS-PMT-006-ScanPLUCapability-260823-0424-738.pdf', 'page': 24}),\n",
       " Document(page_content='https://o2-uk.invisionapp.com/share/P8JF1J6ZCNG#/screens/299125771\\nhttps://o2-uk.invisionapp.com/share/P8JF1J6ZCNG#/screens/299125773\\nhttps://o2-uk.invisionapp.com/share/P8JF1J6ZCNG#/screens/299125770\\nhttps://o2-uk.invisionapp.com/share/P8JF1J6ZCNG#/screens/299125919\\nhttps://o2-uk.invisionapp.com/share/P8JF1J6ZCNG#/screens/299125931\\nhttps://o2-uk.invisionapp.com/share/P8JF1J6ZCNG#/screens/299125932', metadata={'source': 'O2UK-DI-ePOS-PMT-006-ScanPLUCapability-260823-0424-738.pdf', 'page': 25})]"
      ]
     },
     "execution_count": 27,
     "metadata": {},
     "output_type": "execute_result"
    }
   ],
   "source": [
    "desing_pages[4:]"
   ]
  },
  {
   "cell_type": "markdown",
   "id": "1c636e94",
   "metadata": {},
   "source": [
    "# Design Document splitting"
   ]
  },
  {
   "cell_type": "code",
   "execution_count": 28,
   "id": "cbb5c136",
   "metadata": {},
   "outputs": [],
   "source": [
    "# Split\n",
    "\n",
    "pdf_text_splitter = RecursiveCharacterTextSplitter(\n",
    "    chunk_size = 1000,\n",
    "    chunk_overlap = 20,\n",
    "    separators=[\"\\n\\n\", \"\\n\", \"(?<=\\.)\", \" \", \"\"]\n",
    ")"
   ]
  },
  {
   "cell_type": "code",
   "execution_count": 29,
   "id": "56b619d4",
   "metadata": {},
   "outputs": [],
   "source": [
    "desing_pdf_splits = pdf_text_splitter.split_documents(desing_pages[4:])"
   ]
  },
  {
   "cell_type": "code",
   "execution_count": 30,
   "id": "c17fe7ac",
   "metadata": {},
   "outputs": [
    {
     "data": {
      "text/plain": [
       "23"
      ]
     },
     "execution_count": 30,
     "metadata": {},
     "output_type": "execute_result"
    }
   ],
   "source": [
    "len(desing_pdf_splits)"
   ]
  },
  {
   "cell_type": "markdown",
   "id": "85512d25",
   "metadata": {},
   "source": [
    "# ERT Documents Loading"
   ]
  },
  {
   "cell_type": "code",
   "execution_count": 31,
   "id": "2dc9c939",
   "metadata": {},
   "outputs": [],
   "source": [
    "# bass page docs\n",
    "bassdoc_loader = PyPDFLoader(\"Rakuten_ERT - Production_Monitoring.pdf\") \n",
    "ert_pages = bassdoc_loader.load()"
   ]
  },
  {
   "cell_type": "code",
   "execution_count": 32,
   "id": "02b1e5e2",
   "metadata": {},
   "outputs": [
    {
     "data": {
      "text/plain": [
       "33"
      ]
     },
     "execution_count": 32,
     "metadata": {},
     "output_type": "execute_result"
    }
   ],
   "source": [
    "len(ert_pages[3:])"
   ]
  },
  {
   "cell_type": "code",
   "execution_count": 33,
   "id": "edbe7236",
   "metadata": {},
   "outputs": [
    {
     "data": {
      "text/plain": [
       "[Document(page_content='Rakuten ERT Production Monitoring  \\nProduction Monitoring with various tools  \\n \\n \\n© 2020 NetCracker Technology Corporation.    4 \\nNETCRACKER CONFIDENTIAL AND PROPRIETARY. FOR INTERNAL DISTRIBUTION ONLY.  \\nDisclose and distribute solely to employees of NetCracker  Technology Corporation that have a need to know.  \\n1 Introduction  \\nThe objective of this document is to understand the tools used for Rakuten production \\nenvironment monitoring. This document contains…  \\n\\uf0a7 Monitoring methods & tools  \\n\\uf0a7 Type of Grafana dashboards to be monitored  \\n\\uf0a7 ERT dashboard – high level idea  \\n\\uf0a7 ERT dashboard – detailing of each graph  \\n\\xad Understanding of each graph  \\n\\uf0b7 What to monitor  \\n\\uf0b7 How to monitor  \\n\\uf0b7 When to escalate  \\n\\uf0a7 iCinga alerts  \\n\\uf0a7 NewRelic alerts  ', metadata={'source': 'Rakuten_ERT - Production_Monitoring.pdf', 'page': 3}),\n",
       " Document(page_content='Rakuten ERT Production Monitoring  \\nProduction Monitoring with various tools  \\n \\n \\n© 2020 NetCracker Technology Corporation.    5 \\nNETCRACKER CONFIDENTIAL AND PROPRIETARY. FOR INTERNAL DISTRIBUTION ONLY.  \\nDisclose and distribute solely to employees of NetCracker  Technology Corporation that have a need to know.  \\n2 Production Monitoring Methods & Tools  \\nRakuten Production Monitoring entails observing overall health of various BSS components \\ndeployed on Totsuka Production Server. In case of any abnormalities in the System Health \\nIndicators and/or threshold breach of critical metrics, ER Team is required to notify the relevant \\nteams on Skype group as well as escalate to Duty Manager/Escalation Manager as per the \\nguidelines.  \\n \\nFollowing tools are used by ERT team to monitor Rakuten Production Server.  \\nI. Graffana : This is a Graphical Monitoring UI tool, which comprises of System Health \\nIndicators and other business critical metrics. ERT is required to continuously monitor \\nthe multiple dashboards installed on Graffana.  \\n \\nII. iCinga Email Alerts : iCinga tool sends email alerts when a critical metrics crosses the \\ndefined thresholds . \\n \\nIII. NewRelic Monitoring Tool : This tool provides in depth performance details of the \\nvarious components deployed on the production server. It sends email notification only \\nin case of critical issues (real P1/P2 issues).  \\n \\nGraffana and iCinga are being used b y Netcracker, while NewRelic tool is being used by \\nRakuten, for production monitoring. ERT team will also start monitoring the NewRelic tool in \\nnear future.  \\n \\n \\n \\n \\n \\n \\n \\n ', metadata={'source': 'Rakuten_ERT - Production_Monitoring.pdf', 'page': 4}),\n",
       " Document(page_content='Rakuten ERT Production Monitoring  \\nProduction Monitoring with various tools  \\n \\n \\n© 2020 NetCracker Technology Corporation.    6 \\nNETCRACKER CONFIDENTIAL AND PROPRIETARY. FOR INTERNAL DISTRIBUTION ONLY.  \\nDisclose and distribute solely to employees of NetCracker  Technology Corporation that have a need to know.  \\n2.1 iCinga Alerts  \\n \\niCinga tool sends email alerts when a critical metrics crosses the defined thresholds.  \\nFour types of severity raised via this iCinga tool, Sev -1 to Sev -4. \\n- Whenever Sev -1 or Sev -2 type of alert raised, IT HD team notifies it on Sev -1 Skype \\ngroup. Concerned team (MSO) works on the alert and tries to fix it. IT HD team keep \\ntrack of  it and closely work with concern team to close the alert.  \\n- Sev-3 & Sev -4 alerts are directly assigned to MSO team and they work on it and take it \\ntowards closure. IT HD team does not involve in it.  \\nNote : Initially the alert was coming from IT Group hd@netcracker.com , but now after migration it \\nhas started coming via GTS gts@netcracker.com  \\n \\nBelow are few examples of such iCinga alerts.  \\n \\n GTS  ATTENTION!  \\nP2   Rakuten  rkttprodnorcdb-scan sql_mon check daily failed flows WARNING (ITMON-33636).msg\\n \\n GTS  (ITMON-33559) \\nrkttprodportalapp03 root partition free space WARNING.msg\\n \\n \\n \\n \\n \\n \\n \\n \\n ', metadata={'source': 'Rakuten_ERT - Production_Monitoring.pdf', 'page': 5}),\n",
       " Document(page_content='Rakuten ERT Production Monitoring  \\nProduction Monitoring with various tools  \\n \\n \\n© 2020 NetCracker Technology Corporation.    7 \\nNETCRACKER CONFIDENTIAL AND PROPRIETARY. FOR INTERNAL DISTRIBUTION ONLY.  \\nDisclose and distribute solely to employees of NetCracker  Technology Corporation that have a need to know.  \\n2.2 NewRelic Alerts  \\nThis tool provides in depth performance details of the various components deployed on the \\nproduction server. It sends email notification only in case of critical issues (real P1/P2 issues).  \\n- This alert is very crit ical as the alert raised in case of P1/P2 issues.  \\n- Inform L2 team to check fallouts if any  \\n- If alert is for 3rd party then inform Rakuten to check if any issue or planned activity is in \\nprogress  \\n \\n1. Handling NewRelic Alert : \\n \\nIf any NewRelic  alert turns out to be real issue having some impact ( High no. of errors, \\nPerformance degradation, KPI crossing thresholds), we need to  check if any old ticket \\nalready exists for that issue –  \\no If ticket exists with status OPEN : update the ticket with new occurrence and \\ndetails  \\no If old ticket exists with status CLOSED : Reopen the ticket and update with \\nnew occurrence details  \\no If ticket doesn’t exist : open a new ticket after collecting the issue details (from \\nNewRelic tool /Greylog), logs (if required as advis ed by Duty manager, seek \\nMSO help to collect the logs)  \\n \\n2. Creation of ticket : \\n \\no Consult with the duty manager about the issue  \\no If issue is related to performance impact ( CPU utilization is high, High DB \\nresponse time, High eCare response time ) : \\n\\uf0e0 Create a GTS ticket  and assign to Oleg V . \\no If issue is functional (High no of business/application errors) :  \\n\\uf0e0 Create a TMS ticket  and assign to Yuliia S. (L2 lead) .  Also inform L2 \\nTOMS person in shift about the ticket  \\n \\n \\n \\n \\n \\n ', metadata={'source': 'Rakuten_ERT - Production_Monitoring.pdf', 'page': 6}),\n",
       " Document(page_content='Rakuten ERT Production Monitoring  \\nProduction Monitoring with various tools  \\n \\n \\n© 2020 NetCracker Technology Corporation.    8 \\nNETCRACKER CONFIDENTIAL AND PROPRIETARY. FOR INTERNAL DISTRIBUTION ONLY.  \\nDisclose and distribute solely to employees of NetCracker  Technology Corporation that have a need to know.  \\n \\n \\nThis is to note that we will receive two emails of each alert, with Opened  & Closed  state.  \\nSample alert screenshot : Same alert with Opened  & Closed  state.  \\n \\n \\n \\nOutlook configuration for this alert : \\n', metadata={'source': 'Rakuten_ERT - Production_Monitoring.pdf', 'page': 7}),\n",
       " Document(page_content='Rakuten ERT Production Monitoring  \\nProduction Monitoring with various tools  \\n \\n \\n© 2020 NetCracker Technology Corporation.    9 \\nNETCRACKER CONFIDENTIAL AND PROPRIETARY. FOR INTERNAL DISTRIBUTION ONLY.  \\nDisclose and distribute solely to employees of NetCracker  Technology Corporation that have a need to know.  \\n- Try to configure Outlook Rule as below.  \\n- Alert will be received from New Relic Incident Intelligence \\nnoreply@notifications.newrelic.com  \\n- Set “display” in the “New Item Alert window”. The alert window will pop -up as soon as \\nyou will receive this alert email.  \\n- Try to move it to some specific folder so that you can refer it easily whenever needed.  \\n ', metadata={'source': 'Rakuten_ERT - Production_Monitoring.pdf', 'page': 8}),\n",
       " Document(page_content='Rakuten ERT Production Monitoring  \\nProduction Monitoring with various tools  \\n \\n \\n© 2020 NetCracker Technology Corporation.    10 \\nNETCRACKER CONFIDENTIAL AND PROPRIETARY. FOR INTERNAL DISTRIBUTION ONLY.  \\nDisclose and distribute solely to employees of NetCracker  Technology Corporation that have a need to know.  \\n3 Alert Incoming Sources  \\nERT has to take action for any alert coming from below sources – \\n\\uf0a7 Rakuten ERT dashboard  : \\no Any System Health Indicator turning to Yellow  or Red or Purple  \\no Any threshold breach (crossing the WARNING  or CRITICAL  line) on the KPI \\ngraphs  \\n \\n\\uf0a7 Mailbox  : NewRelic email alert  \\n \\n\\uf0a7 Skype/Viber group  : Any issue reported on the group either by NC management or \\nRakuten IT/business  \\n ', metadata={'source': 'Rakuten_ERT - Production_Monitoring.pdf', 'page': 9}),\n",
       " Document(page_content='Rakuten ERT Production Monitoring  \\nProduction Monitoring with various tools  \\n \\n \\n© 2020 NetCracker Technology Corporation.    11 \\nNETCRACKER CONFIDENTIAL AND PROPRIETARY. FOR INTERNAL DISTRIBUTION ONLY.  \\nDisclose and distribute solely to employees of NetCracker  Technology Corporation that have a need to know.  \\n4 Grafana Dashboard Monitoring  \\nGrafana is a graphical monitoring tool. This tool comprises of System Health indicators and \\nother business critical metrics.  \\nThere are multiple dashboards available in Grafana tool to monitor health of system, portal, \\ndatabase, 3rd party solution response etc.  \\nWe will be mainly focusing on below two dashboards:  \\n1) Rakuten Health Dashboard : \\n\\uf0a7 This dashboard contains System Health indicators and around 90+ other graphs.  \\n\\uf0a7 It also includes the number of “Active Subscribers” and “Sales Orders”  \\n\\uf0a7 This dashboard is extended one where system, portal, database, sessions, TBAPI \\netc. all information available.  \\n\\uf0a7 Below is the link to access Rakute n Health dashboard.  \\nhttps://dashboard -prod.netcracker.com/d/h2al8i -Zz/rakuten -health -\\ndashboard?orgId=1&refresh=1m  \\n \\n2) Rakuten ERT Dashboard : \\n\\uf0a7 This das hboard contains System Health indicators and CRITICAL  business KPI \\nmetrics which needs to be closely monitored.  \\n\\uf0a7 The System Health indicators are related to LB (load balancer), DB, 3rd party \\nintegrations and about application nodes.  \\n\\uf0a7 Critical KPIs like, port al response, DB & App CPU utilization & responses, Hogging \\nthreads & stuck threads etc.  \\n\\uf0a7 Below is the link to access Rakuten ERT dashboard.  \\nhttps://dashboard -prod.netcracker.com/d/jwZnkejWk/rakuten -ert-dashboard?orgId=1  \\n \\n \\n \\n \\n \\n \\n \\n \\n \\n ', metadata={'source': 'Rakuten_ERT - Production_Monitoring.pdf', 'page': 10}),\n",
       " Document(page_content='Rakuten ERT Production Monitoring  \\nProduction Monitoring with various tools  \\n \\n \\n© 2020 NetCracker Technology Corporation.    12 \\nNETCRACKER CONFIDENTIAL AND PROPRIETARY. FOR INTERNAL DISTRIBUTION ONLY.  \\nDisclose and distribute solely to employees of NetCracker  Technology Corporation that have a need to know.  \\n4.1 Rakuten ERT Dashboard  \\nAs mentioned above, ERT dashboard is very critical and contains important metrics and system \\nhealth indicators.  \\nThe dashboard is divided into two parts  \\n1) System Health  Indicators  \\n2) ERT Dashboard KPIs (Graphs)  \\n4.1.1  System Health Indicators:  \\nSystem health indictors shows the current state of a system.  \\nThe indicators are for  \\n1. LB (load balancers) : The accessibility of corresponding components from the load \\nbalancer.  \\n2. DB Health : Health check of BSS Database Components.  \\n3. 3p integrations : Connectivity checks from BSS to 3rd Party Integrations  \\n4. Health : Health check of the BSS individual node of particular component  \\n5. Sanda Health  \\n \\nThe indicator color changes if there is an issue observe d. ERT has to take action if  - \\n\\uf0a7 Any System Health Indicator turning to Yellow  or Red or Purple  \\nSometimes the indicators automatically turns back to Green from Red or Purple.  \\nIf any System Health Indicator is Yellow  or Red or Purple  \\n\\uf0a7 Click on the indicator box, which would open iCinga dashboard, verify if the process \\nstatus is yellow or red or purple there as well  \\n\\uf0a7 If it’s Green, go back to the ERT dashboard, refresh and verify if the indicator turns back \\nto green  \\n\\uf0a7 If it’s Yellow/Red/Pur ple, click on the process box and \" Check now \" link on the process \\ndashboard. Repeat this 3 -4 times with a gap of few sec. If the status turns back to \\nGreen, go back to the ERT dashboard, refresh and verify if the indicator turns back to \\ngreen  \\n\\uf0a7 If the status remains Yellow/Red/Purple even after multiple refresh, follow Alert Handling \\nProcedure . \\n ', metadata={'source': 'Rakuten_ERT - Production_Monitoring.pdf', 'page': 11}),\n",
       " Document(page_content='Rakuten ERT Production Monitoring  \\nProduction Monitoring with various tools  \\n \\n \\n© 2020 NetCracker Technology Corporation.    13 \\nNETCRACKER CONFIDENTIAL AND PROPRIETARY. FOR INTERNAL DISTRIBUTION ONLY.  \\nDisclose and distribute solely to employees of NetCracker  Technology Corporation that have a need to know.  \\nBelow newly component added under system health indicators  \\n\\uf0b7 API GW(MVNE) component in Totsuka  \\n\\uf0b7 Sanda Health  \\n\\uf0b7 3p Integrations  \\nPlease find latest system heal th indicators dashboard view  under ERT Dashboard  \\nBelow screenshot shows all the system health indicators.   ', metadata={'source': 'Rakuten_ERT - Production_Monitoring.pdf', 'page': 12}),\n",
       " Document(page_content='Rakuten ERT Production Monitoring  \\nProduction Monitoring with various tools  \\n \\n \\n© 2020 NetCracker Technology Corporation.    14 \\nNETCRACKER CONFIDENTIAL AND PROPRIETARY. FOR INTERNAL DISTRIBUTION ONLY.  \\nDisclose and distribute solely to employees of NetCracker  Technology Corporation that have a need to know.  \\n \\n \\n \\n \\n', metadata={'source': 'Rakuten_ERT - Production_Monitoring.pdf', 'page': 13}),\n",
       " Document(page_content=\"Rakuten ERT Production Monitoring  \\nProduction Monitoring with various tools  \\n \\n \\n© 2020 NetCracker Technology Corporation.    15 \\nNETCRACKER CONFIDENTIAL AND PROPRIETARY. FOR INTERNAL DISTRIBUTION ONLY.  \\nDisclose and distribute solely to employees of NetCracker  Technology Corporation that have a need to know.  \\n4.1.2  ERT Dashboard KPIs  \\nThere are few important metrics (KPIs) available on this ERT dashboard which needs to be \\nclosely monitored.  \\nThese metrics are  monitored by its defined Warning  or Critical  value. If any of the metrics \\ncrosses Warning or Critical level, then alert should be raised. Details of those values will be \\ndescribed in sub -sequent sections against each metrics (graphs).  \\nThe values of 'Warni ng' and 'Critical' thresholds of each KPI are maintained at - \\nhttps://sps.netcracker.com/intproj ect/RKTN.IM.BSS/Shared%20Documents/100_Managed_Serv\\nices/Rakuten%20CSO/Procedures/Rakuten%20ERT%20KPIs.xlsx  \\nBut in Grafana for each dashboard these values are indicated in the graph itself as \\nOrange and Red line \\nBelow is the list of Metrics (graphs) availab le on ERT Dashboard:  \\nSr. No.  Name of Graph (KPI)  Remark  \\n1 eCare Portal API Avg Response time  Business Critical KPI  \\n2 TBAPI Response Time (avg)  Business Critical KPI  \\n3 TOMS DB Response Time per Txn  Business Critical KPI  \\n4 eCare Portal API Response Time   \\n5 TOMS WL Hogging Threads   \\n6 TOMS WL Stuck Threads   \\n7 TOMS DB Blocking Locks & Sessions   \\n8 TOMS DB CPU Utilization %   \\n9 TOMS App CPU Utilization %   \\n10 Default Work Manager   \\n11 TOMS DB Tablespace Util%   \\n12 eCare Active Sessions   \\n13 TBAPI 500 Error  per minute (stack)   \\n14 TBAPI Full GC per 10 min   \\n15 TBAPI Calls per minute (stack)   \\n16 NORC DB Blocking Locks   \\n17 AMM DB Blocking Locks & Sessions   \\n18 RB ECA WL Hogging Threads   \\n19 NORC DB Response Time per sec   \\n20 AMM DB Response Time per Txn   \\n21 RB ECA WL Stuck Thread   \\n22 TOMS DB Transaction per sec   \\n23 TBAPI API Response time per API   \\n24 Orchestrator Workmanagers   \\n \", metadata={'source': 'Rakuten_ERT - Production_Monitoring.pdf', 'page': 14}),\n",
       " Document(page_content='Rakuten ERT Production Monitoring  \\nProduction Monitoring with various tools  \\n \\n \\n© 2020 NetCracker Technology Corporation.    16 \\nNETCRACKER CONFIDENTIAL AND PROPRIETARY. FOR INTERNAL DISTRIBUTION ONLY.  \\nDisclose and distribute solely to employees of NetCracker  Technology Corporation that have a need to know.  \\n \\n \\n \\n \\n \\n \\n \\n \\n \\n \\n4.2 Rakuten ERT Dashboard Details  \\n4.2.1  eCare Portal API Avg Response time  \\n \\n \\n \\nP95 – (95th Percentile) This  means that if 95% of the values fall below this value. In \\nshort, we ignore Jitters and Spikes and consider only normal values.  \\n \\n \\nThis is the most Important KPI.  \\n', metadata={'source': 'Rakuten_ERT - Production_Monitoring.pdf', 'page': 15}),\n",
       " Document(page_content='Rakuten ERT Production Monitoring  \\nProduction Monitoring with various tools  \\n \\n \\n© 2020 NetCracker Technology Corporation.    17 \\nNETCRACKER CONFIDENTIAL AND PROPRIETARY. FOR INTERNAL DISTRIBUTION ONLY.  \\nDisclose and distribute solely to employees of NetCracker  Technology Corporation that have a need to know.  \\n\\uf0b7 Shows the Time taken to get response from eCare web portal.  \\n\\uf0b7 High value shows website is takin g longer to load.  \\n\\uf0b7 This is the higher value in above graph (Green Area).  \\n\\uf0b7 Mean or average value is also shown as a yellow solid line. Mean will always be lower \\nthan p95.  \\n \\n4.2.2  TOMS DB Response Time per Txn  \\n \\n \\nThis is the 3rd most important KPI.  \\n\\uf0b7 Average time taken per Database Transaction in TOMS DB.  \\n\\uf0b7 Lower the value, better.  \\n\\uf0b7 Higher value means Database response is slow and will affect the overall Performance \\nof system.  \\n \\n', metadata={'source': 'Rakuten_ERT - Production_Monitoring.pdf', 'page': 16}),\n",
       " Document(page_content='Rakuten ERT Production Monitoring  \\nProduction Monitoring with various tools  \\n \\n \\n© 2020 NetCracker Technology Corporation.    18 \\nNETCRACKER CONFIDENTIAL AND PROPRIETARY. FOR INTERNAL DISTRIBUTION ONLY.  \\nDisclose and distribute solely to employees of NetCracker  Technology Corporation that have a need to know.  \\n4.2.3  TBAPI Response Time (avg)  \\n \\n \\nWhat is TBAPI:  \\nTelecom Business API known as Business Agility Layer.  \\nHigh Level, business oriented, standard compatible, stable versioned API over all BSS.  \\nThink of it as a black box which has all business logic Implemented. We access those logic via \\nAPI call.  \\nHighly Cached. Uses Couchbase  NoSql D atabase for Smart caching.  \\n \\nThis is the 2nd most Important KPI  \\n\\uf0b7 Shows the Time taken to get response from TBAPI Layer. Lower value is better.  \\n\\uf0b7 High value shows that Business Layer is taking longer to respond, hence All dependent \\napplications would run slower . \\n\\uf0b7 P95 – (95th Percentile) This means that if 95% of the values fall below this value. In \\nshort, we ignore Jitters and Spikes and consider only normal values.  \\n\\uf0b7 This is the higher value in above graph.  \\n\\uf0b7 Mean or average value is also shown  as a solid line. Mean will always be lower than \\np95. \\n \\n \\n ', metadata={'source': 'Rakuten_ERT - Production_Monitoring.pdf', 'page': 17}),\n",
       " Document(page_content=\"Rakuten ERT Production Monitoring  \\nProduction Monitoring with various tools  \\n \\n \\n© 2020 NetCracker Technology Corporation.    19 \\nNETCRACKER CONFIDENTIAL AND PROPRIETARY. FOR INTERNAL DISTRIBUTION ONLY.  \\nDisclose and distribute solely to employees of NetCracker  Technology Corporation that have a need to know.  \\n4.2.4  Channel based TBAPI Response Time  \\n \\n\\uf0b7 This KPI is “supportive” to the main KPI – TBAPI average response time.   \\n\\uf0b7 But it’d help to indicate if there is any issue with specific TBAPI channel, so if there \\nare huge spikes in TBAPI avg response time, you can check this KPI as well and \\nvisit TBAPI channel dashboard (attached mail) – \\nhttps://bass.netcracker.com/pages/viewpage.acti on?pageId=1256314225  , to see \\nwhich channel is impacted and provide this information to the stakeholders (on \\nWebex or WR if its P1/P2 issue)  \\n\\uf0b7 There could be occurrence that TBAPI average response time is trending below \\nthresholds with small spikes (as its a verage of all), but this KPI is crossing thresholds \\nfor specific channel. In this case,  also you can visit TBAPI channel dashboard and \\nreport which channel is impacted.  \\n4.2.5  TOMS DB Blocking Locks & Sessions  \\n \\n\\uf0b7 Blocking session occurs when one session acquired an lock on an object and \\ndoesn't release it,  another session (one or more) want to modify the same data.First \\nsession will block the second until it completes its job  \\n\\uf0b7 Number of Blocking Sessions in TOMS Da tabase at any given time.  \\n\\uf0b7 Blocking sessions cause issue if present continuously for a long duration.  \\n \\n\", metadata={'source': 'Rakuten_ERT - Production_Monitoring.pdf', 'page': 18}),\n",
       " Document(page_content='Rakuten ERT Production Monitoring  \\nProduction Monitoring with various tools  \\n \\n \\n© 2020 NetCracker Technology Corporation.    20 \\nNETCRACKER CONFIDENTIAL AND PROPRIETARY. FOR INTERNAL DISTRIBUTION ONLY.  \\nDisclose and distribute solely to employees of NetCracker  Technology Corporation that have a need to know.  \\n4.2.6  TOMS WL Hogging Threads  \\n \\n\\uf0b7 A hogging thread is a thread which is taking more than usual time to complete the \\nrequest ( For example More than 10 Seconds) .  \\n\\uf0b7 The graph shows number of such treads for each cluster.  \\n \\n4.2.7  TOMS WL Stuck Threads  \\n \\n \\n\\uf0b7 A thread is declared as Stuck if it runs over 600 secs (default configuration which you \\ncan increase or decrease from Weblogic admin console).  \\n\\uf0b7 The graph shows number of such treads for each cluster.  \\n \\n', metadata={'source': 'Rakuten_ERT - Production_Monitoring.pdf', 'page': 19}),\n",
       " Document(page_content='Rakuten ERT Production Monitoring  \\nProduction Monitoring with various tools  \\n \\n \\n© 2020 NetCracker Technology Corporation.    21 \\nNETCRACKER CONFIDENTIAL AND PROPRIETARY. FOR INTERNAL DISTRIBUTION ONLY.  \\nDisclose and distribute solely to employees of NetCracker  Technology Corporation that have a need to know.  \\n \\n4.2.8  TOMS APP CPU Utilization %  \\n \\nTOMS application host’s CPU utilisation current percentage.  \\n \\n \\n4.2.9  eCare Active Sessions  \\n \\n\\uf0b7 Total number of Active sessions/connections to Rakuten eCare Web Portal.  \\n \\n', metadata={'source': 'Rakuten_ERT - Production_Monitoring.pdf', 'page': 20}),\n",
       " Document(page_content='Rakuten ERT Production Monitoring  \\nProduction Monitoring with various tools  \\n \\n \\n© 2020 NetCracker Technology Corporation.    22 \\nNETCRACKER CONFIDENTIAL AND PROPRIETARY. FOR INTERNAL DISTRIBUTION ONLY.  \\nDisclose and distribute solely to employees of NetCracker  Technology Corporation that have a need to know.  \\n4.2.10  TBAPI 500 Error per minute (stack)  \\n \\nHTTP 500 - \"Internal Server Error”  \\nIt is a very general HTTP status code that means something has gone wrong on the \\nwebsite\\'s server, but the server could not be more specific on what the exact problem is.  \\n \\n\\uf0b7 The graph shows HTTP -500 Error counts  per minute collected from Application Logs.  \\n\\uf0b7 The Graph Shows Error Count per minute for all Nodes.  \\n\\uf0b7 Also shows Error count for individual Nodes when you hover mouse over the graph.  \\n \\n \\n4.2.11  Default Work Manager  \\n \\n \\n \\n', metadata={'source': 'Rakuten_ERT - Production_Monitoring.pdf', 'page': 21}),\n",
       " Document(page_content='Rakuten ERT Production Monitoring  \\nProduction Monitoring with various tools  \\n \\n \\n© 2020 NetCracker Technology Corporation.    23 \\nNETCRACKER CONFIDENTIAL AND PROPRIETARY. FOR INTERNAL DISTRIBUTION ONLY.  \\nDisclose and distribute solely to employees of NetCracker  Technology Corporation that have a need to know.  \\nWhat is WorkManager:  \\nWebLogic uses a concept called WorkManager in order to prioritize work and maintain threads \\nand thread -pools.  \\nThe default WorkManager is implemented to handle thread management and perform self -\\ntuning.  \\n\\uf0b7 The Graph Shows MaximumThread  Count handled by each Node Of work manager.  \\n\\uf0b7 The Average and Current Thread counts are also mentioned Below the Graph.  \\n \\n \\n4.2.12  TOMS DB Transactions per sec  \\n \\n\\uf0b7 The average number of Transactions happening every second on TOMS \\nDatabase (Oracle).  \\n  \\n', metadata={'source': 'Rakuten_ERT - Production_Monitoring.pdf', 'page': 22}),\n",
       " Document(page_content='Rakuten ERT Production Monitoring  \\nProduction Monitoring with various tools  \\n \\n \\n© 2020 NetCracker Technology Corporation.    24 \\nNETCRACKER CONFIDENTIAL AND PROPRIETARY. FOR INTERNAL DISTRIBUTION ONLY.  \\nDisclose and distribute solely to employees of NetCracker  Technology Corporation that have a need to know.  \\n4.2.13  TBAPI Calls per m inute (stack)  \\n \\n\\uf0b7 Shows total number of API calls to TBAPI at any given time.  \\n\\uf0b7 This is the sum of calls to all the individual APIs  \\n \\n4.2.14  NORC DB Blocking Locks  \\n \\nWhat is NORC:  \\nNetCracker Online Rating and Charging. It is just another name for RBM  \\n\\uf0b7 Oracle DB blocked sessions on NORC. Blocked sessions can cause performance issue \\nif block remains active for long duration.  \\n \\n', metadata={'source': 'Rakuten_ERT - Production_Monitoring.pdf', 'page': 23}),\n",
       " Document(page_content='Rakuten ERT Production Monitoring  \\nProduction Monitoring with various tools  \\n \\n \\n© 2020 NetCracker Technology Corporation.    25 \\nNETCRACKER CONFIDENTIAL AND PROPRIETARY. FOR INTERNAL DISTRIBUTION ONLY.  \\nDisclose and distribute solely to employees of NetCracker  Technology Corporation that have a need to know.  \\n \\n4.2.15  RB ECA WL Hogging Threads  \\n \\nWhat is ECA:  \\nEnhanced Care APIs  are scalable and provided via Web Services. They provide an “integration \\nready” interface, allowing you to integrate external systems easily and rapidly with the Rating \\nand Billing Manager system (RBM/NORC).  \\n\\uf0b7 KPI Shows Hogging Threads in Weblogic Server of  RB ECA Server.  \\n \\n \\n', metadata={'source': 'Rakuten_ERT - Production_Monitoring.pdf', 'page': 24}),\n",
       " Document(page_content='Rakuten ERT Production Monitoring  \\nProduction Monitoring with various tools  \\n \\n \\n© 2020 NetCracker Technology Corporation.    26 \\nNETCRACKER CONFIDENTIAL AND PROPRIETARY. FOR INTERNAL DISTRIBUTION ONLY.  \\nDisclose and distribute solely to employees of NetCracker  Technology Corporation that have a need to know.  \\n4.2.16  TOMS DB CPU Utilization %  \\n \\n\\uf0b7 In a multi Core Oracle DB server. It is the ratio of Used Time/Total Time Available.  \\n\\uf0b7 For example, if you have 8 CPUs, then for any given minute in real time, you have 8 \\nminutes of CPU time available.  \\n\\uf0b7 So, if 8 minutes are available and Oracle uses 4 minutes of that time, then you know that \\n50% of all CPU time is used by Oracle.  \\n4.2.17  AMM DB Blocking Locks & Sessions  \\n \\nWhat is AMM:  \\nActive Mediation to support Data exchange between any system In  both Online (Real time) \\nand Offline (file based) Modes.  \\nThink of it as a ETL tool which supports both Realtime and File based Inputs.  \\n', metadata={'source': 'Rakuten_ERT - Production_Monitoring.pdf', 'page': 25}),\n",
       " Document(page_content='Rakuten ERT Production Monitoring  \\nProduction Monitoring with various tools  \\n \\n \\n© 2020 NetCracker Technology Corporation.    27 \\nNETCRACKER CONFIDENTIAL AND PROPRIETARY. FOR INTERNAL DISTRIBUTION ONLY.  \\nDisclose and distribute solely to employees of NetCracker  Technology Corporation that have a need to know.  \\n\\uf0b7 AMM has a DB for its own usage. This KPI shows number of blocking sessions at \\nany given Time.  \\n \\n \\n4.2.18  NORC DB Response Time per Txn  \\n \\nWhat is NORC:  \\nNetCracker Online Rating and Charging (RBM)  \\n\\uf0b7 This KPI Shows Oracle DB average response time on NORC.  \\n\\uf0b7 Higher Response time Degrades the Database and System performance.  \\n \\n', metadata={'source': 'Rakuten_ERT - Production_Monitoring.pdf', 'page': 26}),\n",
       " Document(page_content='Rakuten ERT Production Monitoring  \\nProduction Monitoring with various tools  \\n \\n \\n© 2020 NetCracker Technology Corporation.    28 \\nNETCRACKER CONFIDENTIAL AND PROPRIETARY. FOR INTERNAL DISTRIBUTION ONLY.  \\nDisclose and distribute solely to employees of NetCracker  Technology Corporation that have a need to know.  \\n4.2.19  eCare Portal API Response time  \\n \\n \\n\\uf0b7 Shows the Time taken to get response from eCare web portal for each Node.  \\n\\uf0b7 High value shows website is taking longer to load.  \\n\\uf0b7 This KPI can be used to Find Which node caused issue and a  \\n \\n4.2.20  RB ECA WL Stuck Theads  \\n \\n \\nWhat is ECA : Enhanced Care APIs  are scalable and provided via Web Services. They \\nprovide an “integration ready” interface, allowing you to integrate external systems easily and \\nrapidly with the Rating and Billing Manager system (RBM/NORC).  \\n', metadata={'source': 'Rakuten_ERT - Production_Monitoring.pdf', 'page': 27}),\n",
       " Document(page_content='Rakuten ERT Production Monitoring  \\nProduction Monitoring with various tools  \\n \\n \\n© 2020 NetCracker Technology Corporation.    29 \\nNETCRACKER CONFIDENTIAL AND PROPRIETARY. FOR INTERNAL DISTRIBUTION ONLY.  \\nDisclose and distribute solely to employees of NetCracker  Technology Corporation that have a need to know.  \\n\\uf0b7 Stuck Threads in Weblogic Server of RB ECA Serv er. \\n \\n4.2.21  AMM DB Response Time per Txn  \\n \\n \\nWhat is AMM:  \\nActive Mediation to support Data exchange between any system In both Online (Real time) \\nand Offline (file based) Modes.  \\nThink Of It as a ETL tool which supports both Realtime and File based Inputs.  \\n\\uf0b7 AMM has a DB for its own usage. The Average response time can be seen in Response \\ntime per Transaction.  \\n \\n', metadata={'source': 'Rakuten_ERT - Production_Monitoring.pdf', 'page': 28}),\n",
       " Document(page_content='Rakuten ERT Production Monitoring  \\nProduction Monitoring with various tools  \\n \\n \\n© 2020 NetCracker Technology Corporation.    30 \\nNETCRACKER CONFIDENTIAL AND PROPRIETARY. FOR INTERNAL DISTRIBUTION ONLY.  \\nDisclose and distribute solely to employees of NetCracker  Technology Corporation that have a need to know.  \\n4.2.22  TBAPI Full GC per 10 min  \\n \\n \\n \\nJava Garbage Collection  \\n \\nJava garbage collection is the process by which Java programs perform automatic \\nmemory management. Java programs compile to bytecode that can be run on a Java \\nVirtual Machine, or JVM for short. When Java programs run on the JVM, objects are \\ncreated on the heap, which is a portion of memory dedicated to the program. Eventually, \\nsome objects will no longer be needed. The garbage collector finds these unused \\nobjects and deletes them to free up memory.  \\n \\n\\uf0b7 Garbage collection occurrence count over last 10 mins. Mor e count means more /rapid \\nmemory usage.  \\n', metadata={'source': 'Rakuten_ERT - Production_Monitoring.pdf', 'page': 29}),\n",
       " Document(page_content='Rakuten ERT Production Monitoring  \\nProduction Monitoring with various tools  \\n \\n \\n© 2020 NetCracker Technology Corporation.    31 \\nNETCRACKER CONFIDENTIAL AND PROPRIETARY. FOR INTERNAL DISTRIBUTION ONLY.  \\nDisclose and distribute solely to employees of NetCracker  Technology Corporation that have a need to know.  \\n4.2.23  TBAPI API Response time per API  \\n \\n\\uf0b7 Average Response time for each API in TBAPI. This graph can be very useful to find out \\nreason behind TBAPI avg response time.  \\nFew APIs are listed below: - \\n \\n1.1. orderManagement  \\n1.2. fileService  \\n1.3. paymentInstrument  \\n1.4. customerManagement  \\n1.5. contractManagement  \\n \\n4.2.24  Orchestrator Workmanagers  \\nThis graph is responsible for POS orders. It shows the number of threads on each cluster for \\nPOS requests.  \\nHence if thread utilization remains consistently high or saturate then it will directly start \\nimpacting POS user experience  \\nThreshold : \\n- Warning : 4  \\n- Critical   : 6  \\nIf any cluster crosses Warning  or Critical  for consistently 15 mins  then it should be treated as \\nSev2 and Sev1 respectively.  \\n', metadata={'source': 'Rakuten_ERT - Production_Monitoring.pdf', 'page': 30}),\n",
       " Document(page_content='Rakuten ERT Production Monitoring  \\nProduction Monitoring with various tools  \\n \\n \\n© 2020 NetCracker Technology Corporation.    32 \\nNETCRACKER CONFIDENTIAL AND PROPRIETARY. FOR INTERNAL DISTRIBUTION ONLY.  \\nDisclose and distribute solely to employees of NetCracker  Technology Corporation that have a need to know.  \\n \\nBelow screenshot showing Critical scenario.  \\n \\n  \\n', metadata={'source': 'Rakuten_ERT - Production_Monitoring.pdf', 'page': 31}),\n",
       " Document(page_content='Rakuten ERT Production Monitoring  \\nProduction Monitoring with various tools  \\n \\n \\n© 2020 NetCracker Technology Corporation.    33 \\nNETCRACKER CONFIDENTIAL AND PROPRIETARY. FOR INTERNAL DISTRIBUTION ONLY.  \\nDisclose and distribute solely to employees of NetCracker  Technology Corporation that have a need to know.  \\n \\n4.2.25  TOMS Free Regular MSISDN  \\nGuideline :  \\nIf the value drops below  150000  benchmark, post the graph on SEV 1 skype group and alert \\n@Anastasiya/@Prerit/@Vivek/@Maria , informing them that the value has dropped  150000  \\nbenchmark  \\nWe w ill have to inform above mentioned focal if it is single spike or consistent on the given \\nthreshold.  Red threshold line is available to verify it.  \\n \\n \\n4.2.26  TOMS POQueue Backlog of messages per node  \\nGuideline:  \\nThis graph is to monitor backlog of requests to be processed by Process Orchestrator . Grafana \\nreflects count of each TOMS node as a line with a different color.  \\n \\n \\nThresholds – \\nWarning : 30 (If spike remains consistent 3 mints on this value)  \\n', metadata={'source': 'Rakuten_ERT - Production_Monitoring.pdf', 'page': 32}),\n",
       " Document(page_content='Rakuten ERT Production Monitoring  \\nProduction Monitoring with various tools  \\n \\n \\n© 2020 NetCracker Technology Corporation.    34 \\nNETCRACKER CONFIDENTIAL AND PROPRIETARY. FOR INTERNAL DISTRIBUTION ONLY.  \\nDisclose and distribute solely to employees of NetCracker  Technology Corporation that have a need to know.  \\nCritical : 50 (If spike remains consistent 5 mints on this value)  \\nIf the graphs is crossing above mentioned thresholds, reach out to Oleg V . as 1st POC and then \\nMSO.  \\n \\n4.2.26  Licenses and Certificates Monitoring  \\nGuideline:  \\nThis Alert configured to monitor if any license or certificate is being expired. We need to \\nescalate  this when it turn into warning or critical to MSO L2 team.  \\n \\n \\n4.2.27  Message  Queue AB for Tremeal backlog monitoring  \\n \\nGuideline:  \\nWhenever the SHI turns yellow/red, ERT will notify on Webex and ask MSO EA to check and \\nreport the queue size and TOMS L2 to investigate  \\nIf the indicator remains yellow/red for more than 30 min, P1 callout will be raised  \\n \\n \\n \\n \\n \\n \\n \\n \\n \\n \\n', metadata={'source': 'Rakuten_ERT - Production_Monitoring.pdf', 'page': 33}),\n",
       " Document(page_content='Rakuten ERT Production Monitoring  \\nProduction Monitoring with various tools  \\n \\n \\n© 2020 NetCracker Technology Corporation.    35 \\nNETCRACKER CONFIDENTIAL AND PROPRIETARY. FOR INTERNAL DISTRIBUTION ONLY.  \\nDisclose and distribute solely to employees of NetCracker  Technology Corporation that have a need to know.  \\n4.2.28  TBAPI Heap After Full GC   \\nWe should monitor another metric TBAPI Heap after Full GC.  \\n \\nGuideline:  \\n1) We should closely monitor TBAPI Heap After Full GC graph and when heap size will be \\nconstantly between 3GB and 4GB w e should plan midnight restart.  \\n2) In case if any TBAPI will constantly touch 4GB we should open SEV1 internal bridge and \\nask Inc ident manager for next actions.  \\n \\n4.3 Alert Handling Procedure  \\n \\nThis document describes procedure to be followed for handling any alert (spike) in Rakuten \\nERT dashboard  \\nRefer below given SharePoint link to understand the detailed Alert Handling Procedure . \\n \\nhttps://sps.netcra cker.com/intproject/RKTN.IM.BSS/_layouts/15/WopiFrame.aspx?sourcedoc=/i\\nntproject/RKTN.IM.BSS/Shared%20Documents/100_Managed_Services/Rakuten%20CSO/Pro\\ncedures/Rakuten%20ERT%20 -Alert%20Handling%20Process.docx&action=default  \\n \\n', metadata={'source': 'Rakuten_ERT - Production_Monitoring.pdf', 'page': 34}),\n",
       " Document(page_content='Rakuten ERT Production Monitoring  \\nProduction Monitoring with various tools  \\n \\n \\n© 2020 NetCracker Technology Corporation.    36 \\nNETCRACKER CONFIDENTIAL AND PROPRIETARY. FOR INTERNAL DISTRIBUTION ONLY.  \\nDisclose and distribute solely to employees of NetCracker  Technology Corporation that have a need to know.  \\n5 Version History  \\n \\nVersion  Change Description  Created By  Date  \\n1.0 Original document  Rajesh Shah/ Sunil \\nParida  30-Jun-2020  \\n2.1 Revised NewRelic Alert process  Rajesh Shah  29-Jul-2020  \\n2.2 Added new graph details - 4.2.23  Rajesh Shah  17-Oct-2020  \\n2.3 Added new graph details – 4.2.24  Rajesh Shah  25-Nov-2020  \\n2.4 Added new graph details – 4.2.25  Rajesh Shah  08-Dec-2020  \\n2.5 Updated S ection 4.1.1. – with below  \\n1.Newly added Health Indicator name  \\n2. Latest system health indicators dashboard \\nview/Screen shot  Jaydeep Chaudhari  09-Dec-2020  \\n2.6 Updated graph as per new guideline – 4.2.25  Rajesh Shah  17-Dec-2020  \\n2.4 Added new monitoring for Licenses – 4.2.26  Anuradha Kalekar  15-Jan-2022  \\n     2.4 Added new monitoring for Tremeal – 4.2.27  Anuradha Kalekar  18-Jan-2022  \\n     2.4 Added new graph for TBAPI Heap After Full \\nGC – 4.2.2 8 Anuradha Kalekar  11-Feb-2022  \\n4.2 Added new monitoring for Channel Based \\nTBAPI Respose Time  Anuradha Kalekar  25-Feb-2022  \\n ', metadata={'source': 'Rakuten_ERT - Production_Monitoring.pdf', 'page': 35})]"
      ]
     },
     "execution_count": 33,
     "metadata": {},
     "output_type": "execute_result"
    }
   ],
   "source": [
    "ert_pages[3:]"
   ]
  },
  {
   "cell_type": "markdown",
   "id": "54cf41b3",
   "metadata": {},
   "source": [
    "# ERT Document Splitting"
   ]
  },
  {
   "cell_type": "code",
   "execution_count": 34,
   "id": "41f8f59c",
   "metadata": {},
   "outputs": [],
   "source": [
    "# Split\n",
    "\n",
    "pdf_text_splitter = RecursiveCharacterTextSplitter(\n",
    "    chunk_size = 1000,\n",
    "    chunk_overlap = 50,\n",
    "    separators=[\"\\n\\n\", \"\\n\", \"(?<=\\.)\", \" \", \"\"]\n",
    ")"
   ]
  },
  {
   "cell_type": "code",
   "execution_count": 35,
   "id": "324de7c3",
   "metadata": {},
   "outputs": [],
   "source": [
    "ert_pdf_splits = pdf_text_splitter.split_documents(ert_pages[3:])"
   ]
  },
  {
   "cell_type": "code",
   "execution_count": 36,
   "id": "89d1e511",
   "metadata": {},
   "outputs": [
    {
     "data": {
      "text/plain": [
       "47"
      ]
     },
     "execution_count": 36,
     "metadata": {},
     "output_type": "execute_result"
    }
   ],
   "source": [
    "len(ert_pdf_splits)"
   ]
  },
  {
   "cell_type": "code",
   "execution_count": 37,
   "id": "802df87f",
   "metadata": {},
   "outputs": [
    {
     "data": {
      "text/plain": [
       "[Document(page_content='Rakuten ERT Production Monitoring  \\nProduction Monitoring with various tools  \\n \\n \\n© 2020 NetCracker Technology Corporation.    4 \\nNETCRACKER CONFIDENTIAL AND PROPRIETARY. FOR INTERNAL DISTRIBUTION ONLY.  \\nDisclose and distribute solely to employees of NetCracker  Technology Corporation that have a need to know.  \\n1 Introduction  \\nThe objective of this document is to understand the tools used for Rakuten production \\nenvironment monitoring. This document contains…  \\n\\uf0a7 Monitoring methods & tools  \\n\\uf0a7 Type of Grafana dashboards to be monitored  \\n\\uf0a7 ERT dashboard – high level idea  \\n\\uf0a7 ERT dashboard – detailing of each graph  \\n\\xad Understanding of each graph  \\n\\uf0b7 What to monitor  \\n\\uf0b7 How to monitor  \\n\\uf0b7 When to escalate  \\n\\uf0a7 iCinga alerts  \\n\\uf0a7 NewRelic alerts', metadata={'source': 'Rakuten_ERT - Production_Monitoring.pdf', 'page': 3}),\n",
       " Document(page_content='Rakuten ERT Production Monitoring  \\nProduction Monitoring with various tools  \\n \\n \\n© 2020 NetCracker Technology Corporation.    5 \\nNETCRACKER CONFIDENTIAL AND PROPRIETARY. FOR INTERNAL DISTRIBUTION ONLY.  \\nDisclose and distribute solely to employees of NetCracker  Technology Corporation that have a need to know.  \\n2 Production Monitoring Methods & Tools  \\nRakuten Production Monitoring entails observing overall health of various BSS components \\ndeployed on Totsuka Production Server. In case of any abnormalities in the System Health \\nIndicators and/or threshold breach of critical metrics, ER Team is required to notify the relevant \\nteams on Skype group as well as escalate to Duty Manager/Escalation Manager as per the \\nguidelines.  \\n \\nFollowing tools are used by ERT team to monitor Rakuten Production Server.  \\nI. Graffana : This is a Graphical Monitoring UI tool, which comprises of System Health \\nIndicators and other business critical metrics. ERT is required to continuously monitor', metadata={'source': 'Rakuten_ERT - Production_Monitoring.pdf', 'page': 4}),\n",
       " Document(page_content='the multiple dashboards installed on Graffana.  \\n \\nII. iCinga Email Alerts : iCinga tool sends email alerts when a critical metrics crosses the \\ndefined thresholds . \\n \\nIII. NewRelic Monitoring Tool : This tool provides in depth performance details of the \\nvarious components deployed on the production server. It sends email notification only \\nin case of critical issues (real P1/P2 issues).  \\n \\nGraffana and iCinga are being used b y Netcracker, while NewRelic tool is being used by \\nRakuten, for production monitoring. ERT team will also start monitoring the NewRelic tool in \\nnear future.', metadata={'source': 'Rakuten_ERT - Production_Monitoring.pdf', 'page': 4}),\n",
       " Document(page_content='Rakuten ERT Production Monitoring  \\nProduction Monitoring with various tools  \\n \\n \\n© 2020 NetCracker Technology Corporation.    6 \\nNETCRACKER CONFIDENTIAL AND PROPRIETARY. FOR INTERNAL DISTRIBUTION ONLY.  \\nDisclose and distribute solely to employees of NetCracker  Technology Corporation that have a need to know.  \\n2.1 iCinga Alerts  \\n \\niCinga tool sends email alerts when a critical metrics crosses the defined thresholds.  \\nFour types of severity raised via this iCinga tool, Sev -1 to Sev -4. \\n- Whenever Sev -1 or Sev -2 type of alert raised, IT HD team notifies it on Sev -1 Skype \\ngroup. Concerned team (MSO) works on the alert and tries to fix it. IT HD team keep \\ntrack of  it and closely work with concern team to close the alert.  \\n- Sev-3 & Sev -4 alerts are directly assigned to MSO team and they work on it and take it \\ntowards closure. IT HD team does not involve in it.  \\nNote : Initially the alert was coming from IT Group hd@netcracker.com , but now after migration it', metadata={'source': 'Rakuten_ERT - Production_Monitoring.pdf', 'page': 5}),\n",
       " Document(page_content='has started coming via GTS gts@netcracker.com  \\n \\nBelow are few examples of such iCinga alerts.  \\n \\n GTS  ATTENTION!  \\nP2   Rakuten  rkttprodnorcdb-scan sql_mon check daily failed flows WARNING (ITMON-33636).msg\\n \\n GTS  (ITMON-33559) \\nrkttprodportalapp03 root partition free space WARNING.msg', metadata={'source': 'Rakuten_ERT - Production_Monitoring.pdf', 'page': 5}),\n",
       " Document(page_content='Rakuten ERT Production Monitoring  \\nProduction Monitoring with various tools  \\n \\n \\n© 2020 NetCracker Technology Corporation.    7 \\nNETCRACKER CONFIDENTIAL AND PROPRIETARY. FOR INTERNAL DISTRIBUTION ONLY.  \\nDisclose and distribute solely to employees of NetCracker  Technology Corporation that have a need to know.  \\n2.2 NewRelic Alerts  \\nThis tool provides in depth performance details of the various components deployed on the \\nproduction server. It sends email notification only in case of critical issues (real P1/P2 issues).  \\n- This alert is very crit ical as the alert raised in case of P1/P2 issues.  \\n- Inform L2 team to check fallouts if any  \\n- If alert is for 3rd party then inform Rakuten to check if any issue or planned activity is in \\nprogress  \\n \\n1. Handling NewRelic Alert : \\n \\nIf any NewRelic  alert turns out to be real issue having some impact ( High no. of errors, \\nPerformance degradation, KPI crossing thresholds), we need to  check if any old ticket', metadata={'source': 'Rakuten_ERT - Production_Monitoring.pdf', 'page': 6}),\n",
       " Document(page_content='already exists for that issue –  \\no If ticket exists with status OPEN : update the ticket with new occurrence and \\ndetails  \\no If old ticket exists with status CLOSED : Reopen the ticket and update with \\nnew occurrence details  \\no If ticket doesn’t exist : open a new ticket after collecting the issue details (from \\nNewRelic tool /Greylog), logs (if required as advis ed by Duty manager, seek \\nMSO help to collect the logs)  \\n \\n2. Creation of ticket : \\n \\no Consult with the duty manager about the issue  \\no If issue is related to performance impact ( CPU utilization is high, High DB \\nresponse time, High eCare response time ) : \\n\\uf0e0 Create a GTS ticket  and assign to Oleg V . \\no If issue is functional (High no of business/application errors) :  \\n\\uf0e0 Create a TMS ticket  and assign to Yuliia S. (L2 lead) .  Also inform L2 \\nTOMS person in shift about the ticket', metadata={'source': 'Rakuten_ERT - Production_Monitoring.pdf', 'page': 6}),\n",
       " Document(page_content='Rakuten ERT Production Monitoring  \\nProduction Monitoring with various tools  \\n \\n \\n© 2020 NetCracker Technology Corporation.    8 \\nNETCRACKER CONFIDENTIAL AND PROPRIETARY. FOR INTERNAL DISTRIBUTION ONLY.  \\nDisclose and distribute solely to employees of NetCracker  Technology Corporation that have a need to know.  \\n \\n \\nThis is to note that we will receive two emails of each alert, with Opened  & Closed  state.  \\nSample alert screenshot : Same alert with Opened  & Closed  state.  \\n \\n \\n \\nOutlook configuration for this alert :', metadata={'source': 'Rakuten_ERT - Production_Monitoring.pdf', 'page': 7})]"
      ]
     },
     "execution_count": 37,
     "metadata": {},
     "output_type": "execute_result"
    }
   ],
   "source": [
    "ert_pdf_splits[:8]"
   ]
  },
  {
   "cell_type": "markdown",
   "id": "0e35c328",
   "metadata": {},
   "source": [
    "# Combine all Docs"
   ]
  },
  {
   "cell_type": "code",
   "execution_count": 41,
   "id": "d2541c5b",
   "metadata": {},
   "outputs": [],
   "source": [
    "all_docs= tms_splits[0:10]+ desing_pdf_splits + ert_pdf_splits\n",
    "# all_docs= jira_tms_data.head(10).to_dict('records') + desing_pdf_splits + ert_pdf_splits"
   ]
  },
  {
   "cell_type": "code",
   "execution_count": 42,
   "id": "a5cfccf6",
   "metadata": {},
   "outputs": [
    {
     "data": {
      "text/plain": [
       "list"
      ]
     },
     "execution_count": 42,
     "metadata": {},
     "output_type": "execute_result"
    }
   ],
   "source": [
    "type(all_docs)"
   ]
  },
  {
   "cell_type": "markdown",
   "id": "9c618f5a",
   "metadata": {},
   "source": [
    "# Embedding Combine Documents"
   ]
  },
  {
   "cell_type": "code",
   "execution_count": 44,
   "id": "3f2dbe76",
   "metadata": {},
   "outputs": [],
   "source": [
    "from langchain.indexes import VectorstoreIndexCreator"
   ]
  },
  {
   "cell_type": "code",
   "execution_count": 47,
   "id": "40992f99",
   "metadata": {},
   "outputs": [],
   "source": [
    "all_index = VectorstoreIndexCreator(\n",
    "    vectorstore_cls=DocArrayInMemorySearch\n",
    ").from_documents(all_docs)"
   ]
  },
  {
   "cell_type": "markdown",
   "id": "0c2c5784",
   "metadata": {},
   "source": [
    "# Calling LLM Chatbot"
   ]
  },
  {
   "cell_type": "code",
   "execution_count": 48,
   "id": "466afa82",
   "metadata": {},
   "outputs": [],
   "source": [
    "def main():\n",
    "\n",
    "    while True:\n",
    "        user_query = input(\"You: \").strip().lower()\n",
    "\n",
    "        if user_query == \"exit\":\n",
    "            print(\"Chatbot: Goodbye!\")\n",
    "            break\n",
    "        response = all_index.query(user_query)\n",
    "        print(f\"Chatbot: {response}\")"
   ]
  },
  {
   "cell_type": "markdown",
   "id": "0bcbc553",
   "metadata": {},
   "source": [
    "# Running Chatbot"
   ]
  },
  {
   "cell_type": "code",
   "execution_count": 50,
   "id": "411f7ae3",
   "metadata": {},
   "outputs": [
    {
     "name": "stdout",
     "output_type": "stream",
     "text": [
      "Chatbot:  Grafana and iCinga alerts, as well as NewRelic alerts.\n",
      "Chatbot:  Grafana and iCinga alerts, as well as NewRelic alerts.\n",
      "Chatbot:  \n",
      "- Check if any old ticket already exists for that issue \n",
      "- If ticket exists with status OPEN: update the ticket with new occurrence and details \n",
      "- If old ticket exists with status CLOSED: Reopen the ticket and update with new occurrence details \n",
      "- If ticket doesn’t exist: open a new ticket after collecting the issue details (from NewRelic tool/Greylog), logs (if required as advised by Duty manager, seek MSO help to collect the logs) \n",
      "- Consult with the duty manager about the issue \n",
      "- If issue is related to performance impact (CPU utilization is high, High DB response time, High eCare response time): Create a GTS ticket and assign to Oleg V. \n",
      "- If issue is functional (High no of business/application errors): Create a TMS ticket and assign to Yuliia S. (L2 lead). Also inform L2 TOMS person in shift about the ticket.\n",
      "Chatbot:  \n",
      "- Check if any old ticket already exists for that issue \n",
      "- If ticket exists with status OPEN: update the ticket with new occurrence and details \n",
      "- If old ticket exists with status CLOSED: Reopen the ticket and update with new occurrence details \n",
      "- If ticket doesn’t exist: open a new ticket after collecting the issue details (from NewRelic tool/Greylog), logs (if required as advised by Duty manager, seek MSO help to collect the logs) \n",
      "- Consult with the duty manager about the issue \n",
      "- If issue is related to performance impact (CPU utilization is high, High DB response time, High eCare response time): Create a GTS ticket and assign to Oleg V. \n",
      "- If issue is functional (High no of business/application errors): Create a TMS ticket and assign to Yuliia S. (L2 lead). Also inform L2 TOMS person in shift about the ticket.\n",
      "Chatbot: Goodbye!\n"
     ]
    }
   ],
   "source": [
    "if __name__ == '__main__':\n",
    "    main()"
   ]
  }
 ],
 "metadata": {
  "kernelspec": {
   "display_name": "Python 3 (ipykernel)",
   "language": "python",
   "name": "python3"
  },
  "language_info": {
   "codemirror_mode": {
    "name": "ipython",
    "version": 3
   },
   "file_extension": ".py",
   "mimetype": "text/x-python",
   "name": "python",
   "nbconvert_exporter": "python",
   "pygments_lexer": "ipython3",
   "version": "3.11.4"
  }
 },
 "nbformat": 4,
 "nbformat_minor": 5
}
